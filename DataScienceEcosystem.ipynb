{
 "cells": [
  {
   "cell_type": "markdown",
   "id": "519fc141-3c05-485c-bf43-b1ac4b53ec04",
   "metadata": {},
   "source": [
    "# Data Science Tools and Ecosystem"
   ]
  },
  {
   "cell_type": "markdown",
   "id": "5dcfaed3-78eb-4b14-8fda-5b2aa0f0b692",
   "metadata": {},
   "source": [
    "## In this notebook, Data Science Tools and Ecosystem are summarized."
   ]
  },
  {
   "cell_type": "markdown",
   "id": "734bfe40-00fd-4d5d-ab6e-728284387514",
   "metadata": {},
   "source": [
    "__Objectives:__\n",
    "\n",
    "    -> List popular languages for Data Science\n",
    "    -> List popular libraries for Data Science\n",
    "    -> List popular tools for Data Science\n",
    "    -> Performing Arithmetic Expressions"
   ]
  },
  {
   "cell_type": "markdown",
   "id": "6b71cb2f-d2e7-4e9a-adca-be740ec14ca4",
   "metadata": {},
   "source": [
    "### Some of the popular languages that Data Scientists use are:\n",
    "\n",
    "    1) Python\n",
    "    2) R\n",
    "    2) Julia"
   ]
  },
  {
   "cell_type": "markdown",
   "id": "6784ca2a-9e0b-4c6e-8915-b3663abe1f07",
   "metadata": {},
   "source": [
    "### Some of the commonly used libraries used by Data Scientists include:\n",
    "\n",
    "    1) pandas\n",
    "    2) matplotlib\n",
    "    3) numpy\n",
    "    4) pyplot\n",
    "    5) Scikit-learn\n"
   ]
  },
  {
   "cell_type": "markdown",
   "id": "0dbe72a8-d271-4bf5-8bf0-9d3ff4450209",
   "metadata": {},
   "source": [
    "| Data Science Tools |\n",
    "|---|\n",
    "| Jupyter Notebook |\n",
    "| Apache Spark |\n",
    "| Tableau |\n"
   ]
  },
  {
   "cell_type": "markdown",
   "id": "5fee4dce-6de7-45ec-9856-25830976305c",
   "metadata": {},
   "source": [
    "### Below are a few examples of evaluating arithmetic expressions in Python"
   ]
  },
  {
   "cell_type": "code",
   "execution_count": 1,
   "id": "f561d746-5ccf-4b75-8371-6f1124c90ee8",
   "metadata": {},
   "outputs": [
    {
     "data": {
      "text/plain": [
       "17"
      ]
     },
     "execution_count": 1,
     "metadata": {},
     "output_type": "execute_result"
    }
   ],
   "source": [
    "(3*4)+5"
   ]
  },
  {
   "cell_type": "code",
   "execution_count": 2,
   "id": "c08f2faa-40c1-4ae3-876e-b75469f5a34f",
   "metadata": {},
   "outputs": [
    {
     "name": "stdout",
     "output_type": "stream",
     "text": [
      "3 hours 20 min\n"
     ]
    }
   ],
   "source": [
    "hours = 200//60\n",
    "min = 200%60\n",
    "print(str(hours) + \" hours \" + str(min) + \" min\")"
   ]
  },
  {
   "cell_type": "markdown",
   "id": "4d7644ff-9184-4f52-81e3-c12abffc9f61",
   "metadata": {},
   "source": [
    "## Author\n",
    "    Mahesh Babu Kamepalli"
   ]
  }
 ],
 "metadata": {
  "kernelspec": {
   "display_name": "Python 3 (ipykernel)",
   "language": "python",
   "name": "python3"
  },
  "language_info": {
   "codemirror_mode": {
    "name": "ipython",
    "version": 3
   },
   "file_extension": ".py",
   "mimetype": "text/x-python",
   "name": "python",
   "nbconvert_exporter": "python",
   "pygments_lexer": "ipython3",
   "version": "3.12.1"
  }
 },
 "nbformat": 4,
 "nbformat_minor": 5
}
